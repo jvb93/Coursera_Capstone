{
 "cells": [
  {
   "cell_type": "markdown",
   "metadata": {},
   "source": [
    "# Coursera Capstone - Opening a new Pizzeria in New York City\n"
   ]
  },
  {
   "cell_type": "markdown",
   "metadata": {},
   "source": [
    "## 🍕Introduction \n",
    "\n",
    "Everyone loves pizza - New Yorkers in particular. Since 1905, pizza has been an integral part of the culture of New York, with over 400 pizzerias in the city as of 2010 [1]. With a population of over 8 million people, there is a pizza restaurant to serve roughly every 20,000 citizens [2]. Despite the prevailing assumption that there is a pizzeria on every corner, I believe there is still opportunity to successfully start a new one today. Selecting the right location is going to be very important - it does not make sense to open a new restaurant in a neighborhood which is already saturated with pizzerias. The goal of this project is to select a neighborhood in New York City which is underserved by pizza restaurants as a potential opportunity for an investor to open a new restaurant. Using neighborhood information from NYU's Spatial Data Repository and Restaurant location data from Foursquare, I will build a heatmap of pizza restaurants by neighborhood across New York City.\n",
    "\n",
    "\n",
    "## 🍕 Data\n",
    "\n",
    "### Neighborhood data\n",
    "Neighborhood information comes courtesy of NYU's Spatial Data repository:\n",
    "\n",
    "https://geo.nyu.edu/catalog/nyu_2451_34572\n",
    "\n",
    "From here I will gather:\n",
    " - Neighborhood names\n",
    " - Neighborhood boundary shapes as lat/long info\n",
    " \n",
    "\n",
    "### Restaurant data\n",
    "Restaurant location information will be collected from the Foursquare \"explore venues\" API:\n",
    "\n",
    "https://developer.foursquare.com/docs/api-reference/venues/explore/\n",
    "\n",
    "From here I will find every pizza restaurant near the locations gathered in the NYU dataset. I can then use k-means clustering to segment neighborhoods by their overall pizza restaurant density. This data can then be displayed in tabular and heatmap form.\n",
    "\n",
    "Our investor should be able to use this information to make an educated decision as to where they should open their new pizza shop - which neighborhood is the least served by pizzerias. \n",
    "\n",
    "\n",
    "\n",
    "\n",
    "\n",
    "\n",
    "\n",
    "[1]: https://en.wikipedia.org/wiki/New_York-style_pizza \"New York-style pizza\"\n",
    "[2]: https://en.wikipedia.org/wiki/New_York_City \"New York City\"\n",
    "\n"
   ]
  },
  {
   "cell_type": "code",
   "execution_count": null,
   "metadata": {},
   "outputs": [],
   "source": []
  }
 ],
 "metadata": {
  "kernelspec": {
   "display_name": "Python 3",
   "language": "python",
   "name": "python3"
  },
  "language_info": {
   "codemirror_mode": {
    "name": "ipython",
    "version": 3
   },
   "file_extension": ".py",
   "mimetype": "text/x-python",
   "name": "python",
   "nbconvert_exporter": "python",
   "pygments_lexer": "ipython3",
   "version": "3.8.5"
  }
 },
 "nbformat": 4,
 "nbformat_minor": 4
}
